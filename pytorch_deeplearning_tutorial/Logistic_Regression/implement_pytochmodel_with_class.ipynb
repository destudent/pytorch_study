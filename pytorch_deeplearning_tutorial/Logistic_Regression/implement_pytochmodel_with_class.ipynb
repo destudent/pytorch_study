{
 "cells": [
  {
   "cell_type": "markdown",
   "metadata": {},
   "source": [
    "<h3>03. 클래스로 파이토치 모델 구현하기</h3>"
   ]
  },
  {
   "cell_type": "markdown",
   "metadata": {},
   "source": [
    "<h4>1. 모델을 클래스로 구현하기</h4>\n",
    "  \n",
    "클래스(class) 형태의 모델은 nn.Module 을 상속받습니다. 그리고 __init__()에서 모델의 구조와 동적을 정의하는 생성자를 정의합니다. 이는 파이썬에서 객체가 갖는 속성값을 초기화하는 역할로, 객체가 생성될 때 자동으호 호출됩니다. super() 함수를 부르면 여기서 만든 클래스는 nn.Module 클래스의 속성들을 가지고 초기화 됩니다. foward() 함수는 모델이 학습데이터를 입력받아서 forward 연산을 진행시키는 함수입니다. 이 forward() 함수는 model 객체를 데이터와 함께 호출하면 자동으로 실행이됩니다. 예를 들어 model이란 이름의 객체를 생성 후, model(입력 데이터)와 같은 형식으로 객체를 호출하면 자동으로 forward 연산이 수행됩니다."
   ]
  },
  {
   "cell_type": "markdown",
   "metadata": {},
   "source": [
    "<h4>로지스틱 회귀 클래스로 구현하기</h4>\n"
   ]
  },
  {
   "cell_type": "code",
   "execution_count": 1,
   "metadata": {},
   "outputs": [
    {
     "data": {
      "text/plain": [
       "<torch._C.Generator at 0x1065776b0>"
      ]
     },
     "execution_count": 1,
     "metadata": {},
     "output_type": "execute_result"
    }
   ],
   "source": [
    "import torch\n",
    "import torch.nn as nn\n",
    "import torch.nn.functional as F\n",
    "import torch.optim as optim\n",
    "\n",
    "torch.manual_seed(1)"
   ]
  },
  {
   "cell_type": "code",
   "execution_count": 2,
   "metadata": {},
   "outputs": [],
   "source": [
    "x_data = [[1, 2], [2, 3], [3, 1], [4, 3], [5, 3], [6, 2]]\n",
    "y_data = [[0], [0], [0], [1], [1], [1]]\n",
    "x_train = torch.FloatTensor(x_data)\n",
    "y_train = torch.FloatTensor(y_data)\n"
   ]
  },
  {
   "cell_type": "code",
   "execution_count": 3,
   "metadata": {},
   "outputs": [],
   "source": [
    "class BinaryClassifier(nn.Module):\n",
    "    def __init__(self):\n",
    "        super().__init__()\n",
    "        self.linear= nn.Linear(2,1)\n",
    "        self.sigmoid = nn.Sigmoid()\n",
    "\n",
    "    def forward(self,x):\n",
    "        return self.sigmoid(self.linear(x))\n",
    "        "
   ]
  },
  {
   "cell_type": "code",
   "execution_count": 4,
   "metadata": {},
   "outputs": [],
   "source": [
    "model = BinaryClassifier()"
   ]
  },
  {
   "cell_type": "code",
   "execution_count": 5,
   "metadata": {},
   "outputs": [
    {
     "name": "stdout",
     "output_type": "stream",
     "text": [
      "Epoch    0/1000 Cost: 0.688104 Accuracy 83.33%\n",
      "Epoch   10/1000 Cost: 0.659775 Accuracy 83.33%\n",
      "Epoch   20/1000 Cost: 0.646509 Accuracy 83.33%\n",
      "Epoch   30/1000 Cost: 0.638818 Accuracy 83.33%\n",
      "Epoch   40/1000 Cost: 0.633647 Accuracy 83.33%\n",
      "Epoch   50/1000 Cost: 0.629812 Accuracy 83.33%\n",
      "Epoch   60/1000 Cost: 0.626758 Accuracy 83.33%\n",
      "Epoch   70/1000 Cost: 0.624178 Accuracy 83.33%\n",
      "Epoch   80/1000 Cost: 0.621879 Accuracy 83.33%\n",
      "Epoch   90/1000 Cost: 0.619724 Accuracy 83.33%\n",
      "Epoch  100/1000 Cost: 0.617606 Accuracy 83.33%\n",
      "Epoch  110/1000 Cost: 0.615435 Accuracy 83.33%\n",
      "Epoch  120/1000 Cost: 0.613138 Accuracy 83.33%\n",
      "Epoch  130/1000 Cost: 0.610661 Accuracy 83.33%\n",
      "Epoch  140/1000 Cost: 0.607982 Accuracy 83.33%\n",
      "Epoch  150/1000 Cost: 0.605115 Accuracy 83.33%\n",
      "Epoch  160/1000 Cost: 0.602108 Accuracy 83.33%\n",
      "Epoch  170/1000 Cost: 0.599027 Accuracy 83.33%\n",
      "Epoch  180/1000 Cost: 0.595938 Accuracy 83.33%\n",
      "Epoch  190/1000 Cost: 0.592895 Accuracy 83.33%\n",
      "Epoch  200/1000 Cost: 0.589938 Accuracy 100.00%\n",
      "Epoch  210/1000 Cost: 0.587087 Accuracy 100.00%\n",
      "Epoch  220/1000 Cost: 0.584355 Accuracy 100.00%\n",
      "Epoch  230/1000 Cost: 0.581746 Accuracy 100.00%\n",
      "Epoch  240/1000 Cost: 0.579259 Accuracy 100.00%\n",
      "Epoch  250/1000 Cost: 0.576891 Accuracy 100.00%\n",
      "Epoch  260/1000 Cost: 0.574638 Accuracy 100.00%\n",
      "Epoch  270/1000 Cost: 0.572495 Accuracy 100.00%\n",
      "Epoch  280/1000 Cost: 0.570457 Accuracy 100.00%\n",
      "Epoch  290/1000 Cost: 0.568518 Accuracy 100.00%\n",
      "Epoch  300/1000 Cost: 0.566674 Accuracy 100.00%\n",
      "Epoch  310/1000 Cost: 0.564920 Accuracy 100.00%\n",
      "Epoch  320/1000 Cost: 0.563250 Accuracy 100.00%\n",
      "Epoch  330/1000 Cost: 0.561659 Accuracy 100.00%\n",
      "Epoch  340/1000 Cost: 0.560143 Accuracy 100.00%\n",
      "Epoch  350/1000 Cost: 0.558698 Accuracy 100.00%\n",
      "Epoch  360/1000 Cost: 0.557320 Accuracy 100.00%\n",
      "Epoch  370/1000 Cost: 0.556004 Accuracy 100.00%\n",
      "Epoch  380/1000 Cost: 0.554747 Accuracy 100.00%\n",
      "Epoch  390/1000 Cost: 0.553545 Accuracy 100.00%\n",
      "Epoch  400/1000 Cost: 0.552395 Accuracy 100.00%\n",
      "Epoch  410/1000 Cost: 0.551295 Accuracy 100.00%\n",
      "Epoch  420/1000 Cost: 0.550241 Accuracy 100.00%\n",
      "Epoch  430/1000 Cost: 0.549231 Accuracy 100.00%\n",
      "Epoch  440/1000 Cost: 0.548262 Accuracy 100.00%\n",
      "Epoch  450/1000 Cost: 0.547332 Accuracy 100.00%\n",
      "Epoch  460/1000 Cost: 0.546439 Accuracy 100.00%\n",
      "Epoch  470/1000 Cost: 0.545580 Accuracy 100.00%\n",
      "Epoch  480/1000 Cost: 0.544754 Accuracy 100.00%\n",
      "Epoch  490/1000 Cost: 0.543960 Accuracy 100.00%\n",
      "Epoch  500/1000 Cost: 0.543194 Accuracy 100.00%\n",
      "Epoch  510/1000 Cost: 0.542457 Accuracy 100.00%\n",
      "Epoch  520/1000 Cost: 0.541746 Accuracy 100.00%\n",
      "Epoch  530/1000 Cost: 0.541060 Accuracy 100.00%\n",
      "Epoch  540/1000 Cost: 0.540398 Accuracy 100.00%\n",
      "Epoch  550/1000 Cost: 0.539759 Accuracy 100.00%\n",
      "Epoch  560/1000 Cost: 0.539141 Accuracy 100.00%\n",
      "Epoch  570/1000 Cost: 0.538544 Accuracy 100.00%\n",
      "Epoch  580/1000 Cost: 0.537966 Accuracy 100.00%\n",
      "Epoch  590/1000 Cost: 0.537407 Accuracy 100.00%\n",
      "Epoch  600/1000 Cost: 0.536866 Accuracy 100.00%\n",
      "Epoch  610/1000 Cost: 0.536341 Accuracy 100.00%\n",
      "Epoch  620/1000 Cost: 0.535833 Accuracy 100.00%\n",
      "Epoch  630/1000 Cost: 0.535340 Accuracy 100.00%\n",
      "Epoch  640/1000 Cost: 0.534862 Accuracy 100.00%\n",
      "Epoch  650/1000 Cost: 0.534398 Accuracy 100.00%\n",
      "Epoch  660/1000 Cost: 0.533947 Accuracy 100.00%\n",
      "Epoch  670/1000 Cost: 0.533509 Accuracy 100.00%\n",
      "Epoch  680/1000 Cost: 0.533084 Accuracy 100.00%\n",
      "Epoch  690/1000 Cost: 0.532670 Accuracy 100.00%\n",
      "Epoch  700/1000 Cost: 0.532268 Accuracy 100.00%\n",
      "Epoch  710/1000 Cost: 0.531877 Accuracy 100.00%\n",
      "Epoch  720/1000 Cost: 0.531496 Accuracy 100.00%\n",
      "Epoch  730/1000 Cost: 0.531126 Accuracy 100.00%\n",
      "Epoch  740/1000 Cost: 0.530765 Accuracy 100.00%\n",
      "Epoch  750/1000 Cost: 0.530413 Accuracy 100.00%\n",
      "Epoch  760/1000 Cost: 0.530070 Accuracy 100.00%\n",
      "Epoch  770/1000 Cost: 0.529736 Accuracy 100.00%\n",
      "Epoch  780/1000 Cost: 0.529410 Accuracy 100.00%\n",
      "Epoch  790/1000 Cost: 0.529092 Accuracy 100.00%\n",
      "Epoch  800/1000 Cost: 0.528782 Accuracy 100.00%\n",
      "Epoch  810/1000 Cost: 0.528479 Accuracy 100.00%\n",
      "Epoch  820/1000 Cost: 0.528184 Accuracy 100.00%\n",
      "Epoch  830/1000 Cost: 0.527895 Accuracy 100.00%\n",
      "Epoch  840/1000 Cost: 0.527613 Accuracy 100.00%\n",
      "Epoch  850/1000 Cost: 0.527337 Accuracy 100.00%\n",
      "Epoch  860/1000 Cost: 0.527068 Accuracy 100.00%\n",
      "Epoch  870/1000 Cost: 0.526805 Accuracy 100.00%\n",
      "Epoch  880/1000 Cost: 0.526547 Accuracy 100.00%\n",
      "Epoch  890/1000 Cost: 0.526295 Accuracy 100.00%\n",
      "Epoch  900/1000 Cost: 0.526049 Accuracy 100.00%\n",
      "Epoch  910/1000 Cost: 0.525807 Accuracy 100.00%\n",
      "Epoch  920/1000 Cost: 0.525571 Accuracy 100.00%\n",
      "Epoch  930/1000 Cost: 0.525340 Accuracy 100.00%\n",
      "Epoch  940/1000 Cost: 0.525114 Accuracy 100.00%\n",
      "Epoch  950/1000 Cost: 0.524892 Accuracy 100.00%\n",
      "Epoch  960/1000 Cost: 0.524674 Accuracy 100.00%\n",
      "Epoch  970/1000 Cost: 0.524461 Accuracy 100.00%\n",
      "Epoch  980/1000 Cost: 0.524253 Accuracy 100.00%\n",
      "Epoch  990/1000 Cost: 0.524048 Accuracy 100.00%\n",
      "Epoch 1000/1000 Cost: 0.523847 Accuracy 100.00%\n"
     ]
    }
   ],
   "source": [
    "#optimizer 설정\n",
    "optimizer = optim.SGD(model.parameters(),lr = 1)\n",
    "\n",
    "nb_epochs=1000\n",
    "\n",
    "for epoch in range(nb_epochs+1):\n",
    "\n",
    "    hypothesis = model(x_train)\n",
    "\n",
    "    cost = F.binary_cross_entropy_with_logits(hypothesis,y_train)\n",
    "\n",
    "    optimizer.zero_grad()\n",
    "    cost.backward()\n",
    "    optimizer.step()\n",
    "\n",
    "    # 20번마다 로그 출력\n",
    "    if epoch % 10 == 0:\n",
    "        prediction = hypothesis >= torch.FloatTensor([0.5]) # 예측값이 0.5를 넘으면 True로 간주\n",
    "        correct_prediction = prediction.float() == y_train # 실제값과 일치하는 경우만 True로 간주\n",
    "        accuracy = correct_prediction.sum().item() / len(correct_prediction) # 정확도를 계산\n",
    "        print('Epoch {:4d}/{} Cost: {:.6f} Accuracy {:2.2f}%'.format( # 각 에포크마다 정확도를 출력\n",
    "            epoch, nb_epochs, cost.item(), accuracy * 100,\n",
    "        ))"
   ]
  },
  {
   "cell_type": "code",
   "execution_count": null,
   "metadata": {},
   "outputs": [],
   "source": []
  }
 ],
 "metadata": {
  "interpreter": {
   "hash": "52ee2977380704a66854748a73250e0671a9318bd5b3fd45a3df9f851ae61629"
  },
  "kernelspec": {
   "display_name": "Python 3.8.5 ('tf')",
   "language": "python",
   "name": "python3"
  },
  "language_info": {
   "codemirror_mode": {
    "name": "ipython",
    "version": 3
   },
   "file_extension": ".py",
   "mimetype": "text/x-python",
   "name": "python",
   "nbconvert_exporter": "python",
   "pygments_lexer": "ipython3",
   "version": "3.8.5"
  },
  "orig_nbformat": 4
 },
 "nbformat": 4,
 "nbformat_minor": 2
}
