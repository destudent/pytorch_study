{
 "cells": [
  {
   "cell_type": "markdown",
   "metadata": {},
   "source": [
    "<h3>05. XOR문제 - 다층 퍼셉트론 구현하기</h3>"
   ]
  },
  {
   "cell_type": "code",
   "execution_count": 1,
   "metadata": {},
   "outputs": [],
   "source": [
    "import torch\n",
    "import torch.nn as nn\n"
   ]
  },
  {
   "cell_type": "code",
   "execution_count": 2,
   "metadata": {},
   "outputs": [],
   "source": [
    "device ='cuda' if torch.cuda.is_available() else 'cpu'\n",
    "\n",
    "torch.manual_seed(777)\n",
    "\n",
    "if device == 'cuda':\n",
    "    torch.cuda.manual_seed_all(777)"
   ]
  },
  {
   "cell_type": "code",
   "execution_count": 4,
   "metadata": {},
   "outputs": [],
   "source": [
    "X = torch.FloatTensor([[0,0],[0,1],[1,0],[1,1]]).to(device)\n",
    "Y = torch.FloatTensor([[0],[1],[1],[0]]).to(device)"
   ]
  },
  {
   "cell_type": "code",
   "execution_count": 9,
   "metadata": {},
   "outputs": [],
   "source": [
    "model = nn.Sequential(nn.Linear(2,10,bias=True),nn.Sigmoid(),nn.Linear(10,10,bias=True),nn.Sigmoid(),nn.Linear(10,10,bias=True),nn.Sigmoid(),nn.Linear(10,1,bias=True),nn.Sigmoid()).to(device)\n",
    "                    "
   ]
  },
  {
   "cell_type": "code",
   "execution_count": 10,
   "metadata": {},
   "outputs": [],
   "source": [
    "criterion = torch.nn.BCELoss().to(device) #이진분류에 사용하는 크로스엔트로피 함수\n",
    "optimizer = torch.optim.SGD(model.parameters(),lr=1)"
   ]
  },
  {
   "cell_type": "code",
   "execution_count": 11,
   "metadata": {},
   "outputs": [
    {
     "name": "stdout",
     "output_type": "stream",
     "text": [
      "0 0.6935932636260986\n",
      "100 0.6934047937393188\n",
      "200 5.403729301178828e-05\n",
      "300 0.0\n",
      "400 0.0\n",
      "500 0.0\n",
      "600 0.0\n",
      "700 1.3411049337719305e-07\n",
      "800 3.576281244477286e-07\n",
      "900 0.0\n",
      "1000 0.0\n",
      "1100 0.0\n",
      "1200 0.0\n",
      "1300 0.0\n",
      "1400 0.0\n",
      "1500 0.0\n",
      "1600 0.0\n",
      "1700 0.0\n",
      "1800 0.0\n",
      "1900 0.0\n",
      "2000 0.0\n",
      "2100 0.0\n",
      "2200 0.0\n",
      "2300 0.0\n",
      "2400 0.0\n",
      "2500 0.0\n",
      "2600 0.0\n",
      "2700 0.0\n",
      "2800 0.0\n",
      "2900 0.0\n",
      "3000 0.0\n",
      "3100 0.0\n",
      "3200 0.0\n",
      "3300 0.0\n",
      "3400 0.0\n",
      "3500 0.0\n",
      "3600 0.0\n",
      "3700 0.0\n",
      "3800 0.0\n",
      "3900 0.0\n",
      "4000 0.0\n",
      "4100 0.0\n",
      "4200 0.0\n",
      "4300 0.0\n",
      "4400 0.0\n",
      "4500 0.0\n",
      "4600 0.0\n",
      "4700 0.0\n",
      "4800 0.0\n",
      "4900 0.0\n",
      "5000 0.0\n",
      "5100 0.0\n",
      "5200 0.0\n",
      "5300 0.0\n",
      "5400 0.0\n",
      "5500 0.0\n",
      "5600 0.0\n",
      "5700 0.0\n",
      "5800 0.0\n",
      "5900 0.0\n",
      "6000 0.0\n",
      "6100 0.0\n",
      "6200 0.0\n",
      "6300 0.0\n",
      "6400 0.0\n",
      "6500 0.0\n",
      "6600 0.0\n",
      "6700 0.0\n",
      "6800 0.0\n",
      "6900 0.0\n",
      "7000 0.0\n",
      "7100 0.0\n",
      "7200 0.0\n",
      "7300 0.0\n",
      "7400 0.0\n",
      "7500 0.0\n",
      "7600 0.0\n",
      "7700 0.0\n",
      "7800 0.0\n",
      "7900 0.0\n",
      "8000 0.0\n",
      "8100 0.0\n",
      "8200 0.0\n",
      "8300 0.0\n",
      "8400 0.0\n",
      "8500 0.0\n",
      "8600 0.0\n",
      "8700 0.0\n",
      "8800 0.0\n",
      "8900 0.0\n",
      "9000 0.0\n",
      "9100 0.0\n",
      "9200 0.0\n",
      "9300 0.0\n",
      "9400 0.0\n",
      "9500 0.0\n",
      "9600 0.0\n",
      "9700 0.0\n",
      "9800 0.0\n",
      "9900 0.0\n",
      "10000 0.0\n"
     ]
    }
   ],
   "source": [
    "for epoch in range(10001):\n",
    "    optimizer.zero_grad\n",
    "    hypothesis = model(X)\n",
    "\n",
    "    cost = criterion(hypothesis,Y)\n",
    "    cost.backward()\n",
    "    optimizer.step()\n",
    "\n",
    "    # 100의 배수에 해당되는 에포크마다 비용을 출력\n",
    "    if epoch % 100 == 0:\n",
    "        print(epoch, cost.item())"
   ]
  },
  {
   "cell_type": "code",
   "execution_count": 12,
   "metadata": {},
   "outputs": [
    {
     "name": "stdout",
     "output_type": "stream",
     "text": [
      "모델의 출력값(Hypothesis):  [[0.]\n",
      " [1.]\n",
      " [1.]\n",
      " [0.]]\n",
      "모델의 예측값(Predicted):  [[0.]\n",
      " [1.]\n",
      " [1.]\n",
      " [0.]]\n",
      "실제값(Y):  [[0.]\n",
      " [1.]\n",
      " [1.]\n",
      " [0.]]\n",
      "정확도(Accuracy):  1.0\n"
     ]
    }
   ],
   "source": [
    "with torch.no_grad():\n",
    "    hypothesis = model(X)\n",
    "    predicted = (hypothesis > 0.5).float()\n",
    "    accuracy = (predicted == Y).float().mean()\n",
    "    print('모델의 출력값(Hypothesis): ', hypothesis.detach().cpu().numpy())\n",
    "    print('모델의 예측값(Predicted): ', predicted.detach().cpu().numpy())\n",
    "    print('실제값(Y): ', Y.cpu().numpy())\n",
    "    print('정확도(Accuracy): ', accuracy.item())"
   ]
  },
  {
   "cell_type": "code",
   "execution_count": null,
   "metadata": {},
   "outputs": [],
   "source": []
  }
 ],
 "metadata": {
  "interpreter": {
   "hash": "52ee2977380704a66854748a73250e0671a9318bd5b3fd45a3df9f851ae61629"
  },
  "kernelspec": {
   "display_name": "Python 3.8.5 ('tf')",
   "language": "python",
   "name": "python3"
  },
  "language_info": {
   "codemirror_mode": {
    "name": "ipython",
    "version": 3
   },
   "file_extension": ".py",
   "mimetype": "text/x-python",
   "name": "python",
   "nbconvert_exporter": "python",
   "pygments_lexer": "ipython3",
   "version": "3.8.5"
  },
  "orig_nbformat": 4
 },
 "nbformat": 4,
 "nbformat_minor": 2
}
